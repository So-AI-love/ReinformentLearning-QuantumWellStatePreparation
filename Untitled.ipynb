{
 "cells": [
  {
   "cell_type": "code",
   "execution_count": 219,
   "metadata": {},
   "outputs": [],
   "source": [
    "import numpy as np\n",
    "from math import sin,pi \n",
    "import math\n",
    "import scipy.optimize\n",
    "from scipy.optimize import fsolve\n",
    "import matplotlib.pyplot as plt\n",
    "from cmath import sqrt,exp\n",
    "ic=sqrt(-1)\n",
    "N_Keep=10\n",
    "E0=pi**2/2\n",
    "\n",
    "def rootsearch(f,a,b,dx):\n",
    "    x1 = a; f1 = f(a)\n",
    "    x2 = a + dx; f2 = f(x2)\n",
    "    while f1*f2 > 0.0:\n",
    "        if x1 >= b:\n",
    "            return None,None\n",
    "        x1 = x2; f1 = f2\n",
    "        x2 = x1 + dx; f2 = f(x2)\n",
    "    return x1,x2\n",
    "\n",
    "def bisect(f,x1,x2,switch=0,epsilon=1.0e-9):\n",
    "    f1 = f(x1)\n",
    "    if f1 == 0.0:\n",
    "        return x1\n",
    "    f2 = f(x2)\n",
    "    if f2 == 0.0:\n",
    "        return x2\n",
    "    if f1*f2 > 0.0:\n",
    "        print('Root is not bracketed')\n",
    "        return None\n",
    "    n = int(math.ceil(math.log(abs(x2 - x1)/epsilon)/math.log(2.0)))\n",
    "    for i in range(n):\n",
    "        x3 = 0.5*(x1 + x2); f3 = f(x3)\n",
    "        if (switch == 1) and (abs(f3) >abs(f1)) and (abs(f3) > abs(f2)):\n",
    "            return None\n",
    "        if f3 == 0.0:\n",
    "            return x3\n",
    "        if f2*f3 < 0.0:\n",
    "            x1 = x3\n",
    "            f1 = f3\n",
    "        else:\n",
    "            x2 =x3\n",
    "            f2 = f3\n",
    "    return (x1 + x2)/2.0\n",
    "\n",
    "\n",
    "def roots(f, a, b, eps=1e-6):\n",
    "    print ('The roots on the interval [%f, %f] are:' % (a,b))\n",
    "    res=[]\n",
    "    while 1:\n",
    "        x1,x2 = rootsearch(f,a,b,eps)\n",
    "        if (x1 != None) and len(res)<=N_Keep:\n",
    "            a = x2\n",
    "            root = bisect(f,x1,x2,1)\n",
    "            if root != None:\n",
    "                pass\n",
    "                print (round(root,-int(math.log(eps, 10))))\n",
    "                res.append(root)\n",
    "        else:\n",
    "            print ('\\nDone')\n",
    "            break\n",
    "    return res\n"
   ]
  },
  {
   "cell_type": "code",
   "execution_count": 220,
   "metadata": {},
   "outputs": [],
   "source": [
    " def prob1(epsilon,A):      \n",
    "#         epsilon=0.01\n",
    "        a=1/2+epsilon\n",
    "        b=1/2-epsilon\n",
    "\n",
    "        def slove(alpha,solution,p=1):\n",
    "            def F(k):\n",
    "                c=2*alpha\n",
    "                return k*np.sin(k*(a+b))+c*np.sin(k*a)*np.sin(k*b)\n",
    "\n",
    "            if p:\n",
    "                x=np.array(range(0,100))*0.1\n",
    "                y=[F(s) for s in x]\n",
    "                _=plt.plot(x,y)\n",
    "                _=plt.ylabel('F function')\n",
    "                plt.show()\n",
    "\n",
    "                solution=roots(F,0,30) \n",
    "                p=0\n",
    "            else:\n",
    "                solution=fsolve(F,solution) \n",
    "            return solution,p\n",
    "\n",
    "        # slove(10*E0)    \n",
    "        # alpha_list=np.array(range(100))*0.2*E0  \n",
    "\n",
    "        T=np.sqrt(400/A)  #the alpha(T)=A*T^2*E0=400*E0 \n",
    "        t_0_T=np.array(range(1001))*0.001*T;  dt=t_0_T[1];\n",
    "        alpha_list=A*t_0_T**2*E0 \n",
    "        alpha_list_prime=2*A*t_0_T*E0 \n",
    "\n",
    "        # solution=np.array([0,3.14159,6.28319,9.42478,12.56637,15.70796,18.84956])\n",
    "        solution=np.array([s*pi for s in range(N_Keep+1)])\n",
    "        Energies=[]\n",
    "        kn=[]\n",
    "        AS=[]\n",
    "        theta=[];theta_old=np.zeros((N_Keep+1,))\n",
    "        count=0\n",
    "        p=0\n",
    "        for alpha in alpha_list:\n",
    "            solution,p=slove(alpha,solution,p=p)\n",
    "            energy=[s**2/2   for s in solution]  #wave vector to energy\n",
    "            As=[(a/2-np.sin(2*k*a)/(4*k)+np.sin(k*a)**2/np.sin(k*b)**2*(b/2-np.sin(2*k*b)/(4*k)))**-1 for k in solution]\n",
    "            Energies.append(energy)\n",
    "\n",
    "            theta_old=theta_old-np.array(energy)*dt #define theta as function of t\n",
    "            theta.append(theta_old)\n",
    "\n",
    "            AS.append([np.sqrt(abs(s)) for s in As])\n",
    "            kn.append(solution)\n",
    "            count+=1\n",
    "        #     print(count)\n",
    "        Energies=np.matrix(Energies)\n",
    "        theta=np.matrix(theta)\n",
    "        kn=np.matrix(kn)\n",
    "        AS=np.matrix(AS)\n",
    "        # alpha_list/=E0  \n",
    "\n",
    "        Mat=[]\n",
    "        for k in range(len(kn)):\n",
    "            am=np.array(np.zeros((N_Keep,N_Keep)))\n",
    "            factor=np.array(np.zeros((N_Keep,N_Keep)),dtype=complex)\n",
    "            for n in range(1,N_Keep+1):\n",
    "                for m in range(1,N_Keep+1):\n",
    "                    if(n!=m):\n",
    "                        dn=(Energies[k,m]-Energies[k,n])\n",
    "                        up=AS[k,n]*np.sin(kn[k,n]*a) * AS[k,m]*np.sin(kn[k,m]*a)\n",
    "                        am[n-1,m-1]=up/dn\n",
    "                        factor[n-1,m-1]=exp(ic*(theta[k,m]-theta[k,n]))                \n",
    "            Mat.append(-am*factor*alpha_list_prime[k])\n",
    "\n",
    "        c=np.zeros((N_Keep,));c[0]=1;    \n",
    "        for k in range(len(kn)-1):\n",
    "            mat=(Mat[k]+Mat[k+1])/2\n",
    "            c=(mat*dt+np.identity(N_Keep,dtype=complex))@c\n",
    "        \n",
    "        return abs(c[0])**2,abs(c[1])**2,np.linalg.norm(c)"
   ]
  },
  {
   "cell_type": "code",
   "execution_count": 221,
   "metadata": {},
   "outputs": [
    {
     "name": "stderr",
     "output_type": "stream",
     "text": [
      "/Users/jyj/anaconda3/envs/PythonData/lib/python3.6/site-packages/ipykernel/__main__.py:43: RuntimeWarning: invalid value encountered in double_scalars\n"
     ]
    },
    {
     "data": {
      "text/plain": [
       "(0.6635583477493856, 0.33719633334088867, 1.001819403323579)"
      ]
     },
     "execution_count": 221,
     "metadata": {},
     "output_type": "execute_result"
    }
   ],
   "source": [
    "prob1(0.01,100)\n",
    "# c/=np.linalg.norm(c)\n",
    "\n",
    "    \n",
    "\n",
    "# _=plt.plot(alpha_list, amp[:,0],'b*-',alpha_list, amp[:,1], 'r--', alpha_list, amp[:,2], 'b-', \n",
    "#            alpha_list,amp[:,3], 'g*-',alpha_list, amp[:,4], 'y-')\n",
    "# _=plt.ylabel('F function')\n",
    "# plt.ylim(0, 0.01)\n",
    "# plt.xlim(0, 20)\n",
    "# plt.show()"
   ]
  },
  {
   "cell_type": "code",
   "execution_count": 222,
   "metadata": {},
   "outputs": [
    {
     "name": "stderr",
     "output_type": "stream",
     "text": [
      "/Users/jyj/anaconda3/envs/PythonData/lib/python3.6/site-packages/ipykernel/__main__.py:43: RuntimeWarning: invalid value encountered in double_scalars\n"
     ]
    },
    {
     "data": {
      "text/plain": [
       "0"
      ]
     },
     "execution_count": 222,
     "metadata": {},
     "output_type": "execute_result"
    },
    {
     "data": {
      "text/plain": [
       "1"
      ]
     },
     "execution_count": 222,
     "metadata": {},
     "output_type": "execute_result"
    },
    {
     "data": {
      "text/plain": [
       "2"
      ]
     },
     "execution_count": 222,
     "metadata": {},
     "output_type": "execute_result"
    },
    {
     "data": {
      "text/plain": [
       "3"
      ]
     },
     "execution_count": 222,
     "metadata": {},
     "output_type": "execute_result"
    },
    {
     "data": {
      "text/plain": [
       "4"
      ]
     },
     "execution_count": 222,
     "metadata": {},
     "output_type": "execute_result"
    },
    {
     "data": {
      "text/plain": [
       "5"
      ]
     },
     "execution_count": 222,
     "metadata": {},
     "output_type": "execute_result"
    },
    {
     "data": {
      "text/plain": [
       "6"
      ]
     },
     "execution_count": 222,
     "metadata": {},
     "output_type": "execute_result"
    },
    {
     "data": {
      "text/plain": [
       "7"
      ]
     },
     "execution_count": 222,
     "metadata": {},
     "output_type": "execute_result"
    },
    {
     "data": {
      "text/plain": [
       "8"
      ]
     },
     "execution_count": 222,
     "metadata": {},
     "output_type": "execute_result"
    },
    {
     "data": {
      "text/plain": [
       "9"
      ]
     },
     "execution_count": 222,
     "metadata": {},
     "output_type": "execute_result"
    },
    {
     "data": {
      "text/plain": [
       "10"
      ]
     },
     "execution_count": 222,
     "metadata": {},
     "output_type": "execute_result"
    },
    {
     "data": {
      "text/plain": [
       "11"
      ]
     },
     "execution_count": 222,
     "metadata": {},
     "output_type": "execute_result"
    },
    {
     "data": {
      "text/plain": [
       "12"
      ]
     },
     "execution_count": 222,
     "metadata": {},
     "output_type": "execute_result"
    },
    {
     "data": {
      "text/plain": [
       "13"
      ]
     },
     "execution_count": 222,
     "metadata": {},
     "output_type": "execute_result"
    },
    {
     "data": {
      "text/plain": [
       "14"
      ]
     },
     "execution_count": 222,
     "metadata": {},
     "output_type": "execute_result"
    },
    {
     "data": {
      "text/plain": [
       "15"
      ]
     },
     "execution_count": 222,
     "metadata": {},
     "output_type": "execute_result"
    },
    {
     "data": {
      "text/plain": [
       "16"
      ]
     },
     "execution_count": 222,
     "metadata": {},
     "output_type": "execute_result"
    },
    {
     "data": {
      "text/plain": [
       "17"
      ]
     },
     "execution_count": 222,
     "metadata": {},
     "output_type": "execute_result"
    },
    {
     "data": {
      "text/plain": [
       "18"
      ]
     },
     "execution_count": 222,
     "metadata": {},
     "output_type": "execute_result"
    },
    {
     "data": {
      "text/plain": [
       "19"
      ]
     },
     "execution_count": 222,
     "metadata": {},
     "output_type": "execute_result"
    },
    {
     "data": {
      "text/plain": [
       "20"
      ]
     },
     "execution_count": 222,
     "metadata": {},
     "output_type": "execute_result"
    },
    {
     "data": {
      "text/plain": [
       "21"
      ]
     },
     "execution_count": 222,
     "metadata": {},
     "output_type": "execute_result"
    },
    {
     "data": {
      "text/plain": [
       "22"
      ]
     },
     "execution_count": 222,
     "metadata": {},
     "output_type": "execute_result"
    },
    {
     "data": {
      "text/plain": [
       "23"
      ]
     },
     "execution_count": 222,
     "metadata": {},
     "output_type": "execute_result"
    },
    {
     "data": {
      "text/plain": [
       "24"
      ]
     },
     "execution_count": 222,
     "metadata": {},
     "output_type": "execute_result"
    },
    {
     "data": {
      "text/plain": [
       "25"
      ]
     },
     "execution_count": 222,
     "metadata": {},
     "output_type": "execute_result"
    },
    {
     "data": {
      "text/plain": [
       "26"
      ]
     },
     "execution_count": 222,
     "metadata": {},
     "output_type": "execute_result"
    },
    {
     "data": {
      "text/plain": [
       "27"
      ]
     },
     "execution_count": 222,
     "metadata": {},
     "output_type": "execute_result"
    },
    {
     "data": {
      "text/plain": [
       "28"
      ]
     },
     "execution_count": 222,
     "metadata": {},
     "output_type": "execute_result"
    },
    {
     "data": {
      "text/plain": [
       "29"
      ]
     },
     "execution_count": 222,
     "metadata": {},
     "output_type": "execute_result"
    },
    {
     "data": {
      "text/plain": [
       "30"
      ]
     },
     "execution_count": 222,
     "metadata": {},
     "output_type": "execute_result"
    },
    {
     "data": {
      "text/plain": [
       "31"
      ]
     },
     "execution_count": 222,
     "metadata": {},
     "output_type": "execute_result"
    },
    {
     "data": {
      "text/plain": [
       "32"
      ]
     },
     "execution_count": 222,
     "metadata": {},
     "output_type": "execute_result"
    },
    {
     "data": {
      "text/plain": [
       "33"
      ]
     },
     "execution_count": 222,
     "metadata": {},
     "output_type": "execute_result"
    },
    {
     "data": {
      "text/plain": [
       "34"
      ]
     },
     "execution_count": 222,
     "metadata": {},
     "output_type": "execute_result"
    },
    {
     "data": {
      "text/plain": [
       "35"
      ]
     },
     "execution_count": 222,
     "metadata": {},
     "output_type": "execute_result"
    },
    {
     "data": {
      "text/plain": [
       "36"
      ]
     },
     "execution_count": 222,
     "metadata": {},
     "output_type": "execute_result"
    },
    {
     "data": {
      "text/plain": [
       "37"
      ]
     },
     "execution_count": 222,
     "metadata": {},
     "output_type": "execute_result"
    },
    {
     "data": {
      "text/plain": [
       "38"
      ]
     },
     "execution_count": 222,
     "metadata": {},
     "output_type": "execute_result"
    },
    {
     "data": {
      "text/plain": [
       "39"
      ]
     },
     "execution_count": 222,
     "metadata": {},
     "output_type": "execute_result"
    },
    {
     "data": {
      "text/plain": [
       "40"
      ]
     },
     "execution_count": 222,
     "metadata": {},
     "output_type": "execute_result"
    },
    {
     "data": {
      "text/plain": [
       "41"
      ]
     },
     "execution_count": 222,
     "metadata": {},
     "output_type": "execute_result"
    },
    {
     "data": {
      "text/plain": [
       "42"
      ]
     },
     "execution_count": 222,
     "metadata": {},
     "output_type": "execute_result"
    },
    {
     "data": {
      "text/plain": [
       "43"
      ]
     },
     "execution_count": 222,
     "metadata": {},
     "output_type": "execute_result"
    },
    {
     "data": {
      "text/plain": [
       "44"
      ]
     },
     "execution_count": 222,
     "metadata": {},
     "output_type": "execute_result"
    },
    {
     "data": {
      "text/plain": [
       "45"
      ]
     },
     "execution_count": 222,
     "metadata": {},
     "output_type": "execute_result"
    },
    {
     "data": {
      "text/plain": [
       "46"
      ]
     },
     "execution_count": 222,
     "metadata": {},
     "output_type": "execute_result"
    },
    {
     "data": {
      "text/plain": [
       "47"
      ]
     },
     "execution_count": 222,
     "metadata": {},
     "output_type": "execute_result"
    },
    {
     "data": {
      "text/plain": [
       "48"
      ]
     },
     "execution_count": 222,
     "metadata": {},
     "output_type": "execute_result"
    },
    {
     "data": {
      "text/plain": [
       "49"
      ]
     },
     "execution_count": 222,
     "metadata": {},
     "output_type": "execute_result"
    }
   ],
   "source": [
    "prob_stay=np.zeros((40,50))\n",
    "prob_high=np.zeros((40,50))\n",
    "prob_Tot=np.zeros((40,50))\n",
    "epsilon_list=np.array(range(1,51))/50*0.05\n",
    "A_list=np.array(range(1,41))/40*1200\n",
    "ee=-1\n",
    "for epsilon in epsilon_list:\n",
    "    ee+=1\n",
    "    aa=-1\n",
    "    for A in A_list:\n",
    "        aa+=1\n",
    "        ss1,ss2,ss3=prob1(epsilon,A)\n",
    "        prob_stay[aa,ee]=ss1\n",
    "        prob_high[aa,ee]=1-ss1-ss2\n",
    "        prob_Tot[aa,ee]=ss3\n",
    "        \n",
    "    ee"
   ]
  },
  {
   "cell_type": "code",
   "execution_count": 178,
   "metadata": {},
   "outputs": [
    {
     "data": {
      "text/plain": [
       "1.0037769414691653"
      ]
     },
     "execution_count": 178,
     "metadata": {},
     "output_type": "execute_result"
    },
    {
     "data": {
      "text/plain": [
       "array([ 8.76909233e-01+6.99465709e-02j,  1.75518958e-01-4.47173055e-01j,\n",
       "        5.20148545e-02-1.77875287e-03j, -1.41217616e-02+4.96804391e-03j,\n",
       "       -1.42433541e-03-4.40409651e-04j,  3.09559816e-04+2.09865112e-04j])"
      ]
     },
     "execution_count": 178,
     "metadata": {},
     "output_type": "execute_result"
    }
   ],
   "source": [
    "np.linalg.norm(c)\n",
    "c"
   ]
  },
  {
   "cell_type": "code",
   "execution_count": 139,
   "metadata": {},
   "outputs": [
    {
     "data": {
      "text/plain": [
       "(0, 0.01)"
      ]
     },
     "execution_count": 139,
     "metadata": {},
     "output_type": "execute_result"
    },
    {
     "data": {
      "text/plain": [
       "(0, 20)"
      ]
     },
     "execution_count": 139,
     "metadata": {},
     "output_type": "execute_result"
    },
    {
     "data": {
      "image/png": "[encoded data removed]",
      "text/plain": [
       "<Figure size 432x288 with 1 Axes>"
      ]
     },
     "metadata": {},
     "output_type": "display_data"
    }
   ],
   "source": [
    "amp=[]\n",
    "for k in range(len(kn)):\n",
    "    am=[]\n",
    "    for s in range(2,7):\n",
    "        dn=(Energies[k,s]-Energies[k,1])\n",
    "        up=AS[k,s]*np.sin(kn[k,s]*a) * AS[k,1]*np.sin(kn[k,1]*a)\n",
    "        ratio=up/dn\n",
    "        am.append(ratio)\n",
    "    amp.append(am)\n",
    "amp=np.matrix(amp)\n",
    "amp=abs(amp)\n",
    "_=plt.plot(alpha_list/E0, amp[:,0],'b*-',alpha_list/E0, amp[:,1], 'r--', alpha_list/E0, amp[:,2], 'b-', \n",
    "           alpha_list/E0,amp[:,3], 'g*-',alpha_list/E0, amp[:,4], 'y-')\n",
    "_=plt.ylabel('F function')\n",
    "plt.ylim(0, 0.01)\n",
    "plt.xlim(0, 20)\n",
    "plt.show()"
   ]
  },
  {
   "cell_type": "code",
   "execution_count": 137,
   "metadata": {},
   "outputs": [
    {
     "data": {
      "image/png": "[encoded data removed]",
      "text/plain": [
       "<Figure size 432x288 with 1 Axes>"
      ]
     },
     "metadata": {},
     "output_type": "display_data"
    }
   ],
   "source": [
    "%matplotlib inline\n",
    "_=plt.plot(alpha_list/E0,  Energies[:,1]/E0, 'r--', alpha_list/E0,  Energies[:,2]/E0, 'b-', \n",
    "           alpha_list/E0, Energies[:,3]/E0, 'g-',alpha_list/E0,  Energies[:,4]/E0, 'y-')\n",
    "_=plt.ylabel('F function')\n",
    "plt.show()"
   ]
  },
  {
   "cell_type": "code",
   "execution_count": 121,
   "metadata": {},
   "outputs": [
    {
     "data": {
      "text/plain": [
       "3.0"
      ]
     },
     "execution_count": 121,
     "metadata": {},
     "output_type": "execute_result"
    },
    {
     "data": {
      "text/plain": [
       "2.23606797749979"
      ]
     },
     "execution_count": 121,
     "metadata": {},
     "output_type": "execute_result"
    }
   ],
   "source": [
    "np.linalg.norm(np.array([[1+2j,2]],dtype=complex))\n",
    "np.sqrt(5)"
   ]
  },
  {
   "cell_type": "code",
   "execution_count": 89,
   "metadata": {},
   "outputs": [
    {
     "data": {
      "text/plain": [
       "1"
      ]
     },
     "execution_count": 89,
     "metadata": {},
     "output_type": "execute_result"
    }
   ],
   "source": [
    "a=np.array(np.matrix([[1,2],[3,4]]))*np.array(np.matrix([[1,2],[3,4]]))\n",
    "a[0,0]"
   ]
  },
  {
   "cell_type": "code",
   "execution_count": 141,
   "metadata": {},
   "outputs": [
    {
     "data": {
      "text/plain": [
       "array([[ 2,  8],\n",
       "       [18, 32]])"
      ]
     },
     "execution_count": 141,
     "metadata": {},
     "output_type": "execute_result"
    }
   ],
   "source": [
    "a=np.array([[1,2],[3,4]])*np.array([[1,2],[3,4]])*2\n",
    "a"
   ]
  },
  {
   "cell_type": "code",
   "execution_count": 73,
   "metadata": {},
   "outputs": [
    {
     "data": {
      "text/plain": [
       "matrix([[0., 0., 0., 0., 0., 0.],\n",
       "        [0., 0., 0., 0., 0., 0.],\n",
       "        [0., 0., 0., 0., 0., 0.],\n",
       "        [0., 0., 0., 0., 0., 0.],\n",
       "        [0., 0., 0., 0., 0., 0.],\n",
       "        [0., 0., 0., 0., 0., 0.]])"
      ]
     },
     "execution_count": 73,
     "metadata": {},
     "output_type": "execute_result"
    }
   ],
   "source": [
    "np.matrix(np.zeros((6,6)))"
   ]
  },
  {
   "cell_type": "code",
   "execution_count": 79,
   "metadata": {},
   "outputs": [
    {
     "data": {
      "text/plain": [
       "1j"
      ]
     },
     "execution_count": 79,
     "metadata": {},
     "output_type": "execute_result"
    },
    {
     "data": {
      "text/plain": [
       "(6.123233995736766e-17+1j)"
      ]
     },
     "execution_count": 79,
     "metadata": {},
     "output_type": "execute_result"
    }
   ],
   "source": [
    "\n",
    "ic=sqrt(-1)\n",
    "ic\n",
    "exp(ic*pi/2)"
   ]
  },
  {
   "cell_type": "code",
   "execution_count": 75,
   "metadata": {},
   "outputs": [
    {
     "data": {
      "text/plain": [
       "nan"
      ]
     },
     "execution_count": 75,
     "metadata": {},
     "output_type": "execute_result"
    }
   ],
   "source": [
    "ic"
   ]
  },
  {
   "cell_type": "code",
   "execution_count": 191,
   "metadata": {},
   "outputs": [
    {
     "data": {
      "text/plain": [
       "<matplotlib.contour.QuadContourSet at 0x101e060668>"
      ]
     },
     "execution_count": 191,
     "metadata": {},
     "output_type": "execute_result"
    },
    {
     "data": {
      "image/png": "[encoded data removed]",
      "text/plain": [
       "<Figure size 432x288 with 1 Axes>"
      ]
     },
     "metadata": {},
     "output_type": "display_data"
    }
   ],
   "source": [
    "plt.contour(np.matrix(prob_stay).T,[0.7])"
   ]
  },
  {
   "cell_type": "code",
   "execution_count": 197,
   "metadata": {},
   "outputs": [
    {
     "data": {
      "text/plain": [
       "<matplotlib.contour.QuadContourSet at 0x101e592cf8>"
      ]
     },
     "execution_count": 197,
     "metadata": {},
     "output_type": "execute_result"
    },
    {
     "data": {
      "image/png": "[encoded data removed]",
      "text/plain": [
       "<Figure size 432x288 with 1 Axes>"
      ]
     },
     "metadata": {},
     "output_type": "display_data"
    }
   ],
   "source": [
    "plt.contour(np.matrix(prob_stay).T,[0.55,0.6,0.65,0.7])"
   ]
  },
  {
   "cell_type": "code",
   "execution_count": 205,
   "metadata": {},
   "outputs": [
    {
     "data": {
      "text/plain": [
       "<matplotlib.contour.QuadContourSet at 0x10c273860>"
      ]
     },
     "execution_count": 205,
     "metadata": {},
     "output_type": "execute_result"
    },
    {
     "data": {
      "image/png": "[encoded data removed]",
      "text/plain": [
       "<Figure size 432x288 with 1 Axes>"
      ]
     },
     "metadata": {},
     "output_type": "display_data"
    }
   ],
   "source": [
    "plt.contour(epsilon_list,A_list,np.matrix(prob_stay)\n",
    "            ,[0.52,0.55,0.6,0.65,0.7])\n",
    "\n",
    "# epsilon_list=np.array(range(1,51))/50*0.05\n",
    "# A_list=np.array(range(1,41))/40*1200"
   ]
  },
  {
   "cell_type": "code",
   "execution_count": 224,
   "metadata": {},
   "outputs": [
    {
     "data": {
      "text/plain": [
       "<matplotlib.contour.QuadContourSet at 0x101e2853c8>"
      ]
     },
     "execution_count": 224,
     "metadata": {},
     "output_type": "execute_result"
    },
    {
     "data": {
      "image/png": "[encoded data removed]",
      "text/plain": [
       "<Figure size 432x288 with 1 Axes>"
      ]
     },
     "metadata": {},
     "output_type": "display_data"
    }
   ],
   "source": [
    "plt.contour(epsilon_list,A_list,np.matrix(prob_stay)\n",
    "            ,[0.52,0.55,0.6,0.65,0.7])\n"
   ]
  },
  {
   "cell_type": "code",
   "execution_count": 209,
   "metadata": {},
   "outputs": [
    {
     "data": {
      "text/plain": [
       "<matplotlib.contour.QuadContourSet at 0x101e22cc18>"
      ]
     },
     "execution_count": 209,
     "metadata": {},
     "output_type": "execute_result"
    },
    {
     "data": {
      "image/png": "[encoded data removed]",
      "text/plain": [
       "<Figure size 432x288 with 1 Axes>"
      ]
     },
     "metadata": {},
     "output_type": "display_data"
    }
   ],
   "source": [
    "plt.contour(epsilon_list,A_list,np.matrix(prob_high)\n",
    "            ,[0.02,0.04,0.06])"
   ]
  },
  {
   "cell_type": "code",
   "execution_count": 214,
   "metadata": {},
   "outputs": [
    {
     "data": {
      "text/plain": [
       "<matplotlib.contour.QuadContourSet at 0x101e8e6b38>"
      ]
     },
     "execution_count": 214,
     "metadata": {},
     "output_type": "execute_result"
    },
    {
     "data": {
      "image/png": "[encoded data removed]",
      "text/plain": [
       "<Figure size 432x288 with 1 Axes>"
      ]
     },
     "metadata": {},
     "output_type": "display_data"
    }
   ],
   "source": [
    "plt.contour(epsilon_list,A_list,np.matrix(prob_high)\n",
    "            ,[0.02,0.04,0.06])"
   ]
  },
  {
   "cell_type": "code",
   "execution_count": 223,
   "metadata": {},
   "outputs": [
    {
     "data": {
      "text/plain": [
       "<matplotlib.contour.QuadContourSet at 0x101e940cc0>"
      ]
     },
     "execution_count": 223,
     "metadata": {},
     "output_type": "execute_result"
    },
    {
     "data": {
      "image/png": "[encoded data removed]",
      "text/plain": [
       "<Figure size 432x288 with 1 Axes>"
      ]
     },
     "metadata": {},
     "output_type": "display_data"
    }
   ],
   "source": [
    "plt.contour(epsilon_list,A_list,np.matrix(prob_high)\n",
    "            ,[0.02,0.04,0.06])"
   ]
  },
  {
   "cell_type": "code",
   "execution_count": null,
   "metadata": {},
   "outputs": [],
   "source": []
  }
 ],
 "metadata": {
  "kernelspec": {
   "display_name": "Python [conda env:PythonData]",
   "language": "python",
   "name": "conda-env-PythonData-py"
  },
  "language_info": {
   "codemirror_mode": {
    "name": "ipython",
    "version": 3
   },
   "file_extension": ".py",
   "mimetype": "text/x-python",
   "name": "python",
   "nbconvert_exporter": "python",
   "pygments_lexer": "ipython3",
   "version": "3.6.5"
  }
 },
 "nbformat": 4,
 "nbformat_minor": 2
}
