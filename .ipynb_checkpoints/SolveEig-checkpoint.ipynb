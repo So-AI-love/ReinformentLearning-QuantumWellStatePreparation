{
 "cells": [
  {
   "cell_type": "code",
   "execution_count": 1,
   "metadata": {},
   "outputs": [],
   "source": [
    "import numpy as np\n",
    "from math import sin,pi \n",
    "import math\n",
    "import scipy.optimize\n",
    "from scipy.optimize import fsolve\n",
    "import matplotlib.pyplot as plt\n",
    "\n",
    "def rootsearch(f,a,b,dx):\n",
    "    x1 = a; f1 = f(a)\n",
    "    x2 = a + dx; f2 = f(x2)\n",
    "    while f1*f2 > 0.0:\n",
    "        if x1 >= b:\n",
    "            return None,None\n",
    "        x1 = x2; f1 = f2\n",
    "        x2 = x1 + dx; f2 = f(x2)\n",
    "    return x1,x2\n",
    "\n",
    "def bisect(f,x1,x2,switch=0,epsilon=1.0e-9):\n",
    "    f1 = f(x1)\n",
    "    if f1 == 0.0:\n",
    "        return x1\n",
    "    f2 = f(x2)\n",
    "    if f2 == 0.0:\n",
    "        return x2\n",
    "    if f1*f2 > 0.0:\n",
    "        print('Root is not bracketed')\n",
    "        return None\n",
    "    n = int(math.ceil(math.log(abs(x2 - x1)/epsilon)/math.log(2.0)))\n",
    "    for i in range(n):\n",
    "        x3 = 0.5*(x1 + x2); f3 = f(x3)\n",
    "        if (switch == 1) and (abs(f3) >abs(f1)) and (abs(f3) > abs(f2)):\n",
    "            return None\n",
    "        if f3 == 0.0:\n",
    "            return x3\n",
    "        if f2*f3 < 0.0:\n",
    "            x1 = x3\n",
    "            f1 = f3\n",
    "        else:\n",
    "            x2 =x3\n",
    "            f2 = f3\n",
    "    return (x1 + x2)/2.0\n",
    "\n",
    "\n",
    "def roots(f, a, b, eps=1e-6):\n",
    "    print ('The roots on the interval [%f, %f] are:' % (a,b))\n",
    "    res=[]\n",
    "    while 1:\n",
    "        x1,x2 = rootsearch(f,a,b,eps)\n",
    "        if (x1 != None) and len(res)<=6:\n",
    "            a = x2\n",
    "            root = bisect(f,x1,x2,1)\n",
    "            if root != None:\n",
    "                pass\n",
    "                print (round(root,-int(math.log(eps, 10))))\n",
    "                res.append(root)\n",
    "        else:\n",
    "            print ('\\nDone')\n",
    "            break\n",
    "    return res\n",
    "\n",
    "# f=lambda x:x*math.cos(x-4)\n",
    "# roots(f, -3, 3)\n",
    "\n",
    "\n",
    "# f = lambda x : x * np.cos(x-4)\n",
    "# x = np.array([0.0, 1])\n",
    "# x=fsolve(F,0.1640744300)\n",
    "# # # x = scipy.optimize.broyden1(F, [0], f_tol=1e-14)\n",
    "# print(x)"
   ]
  },
  {
   "cell_type": "code",
   "execution_count": 2,
   "metadata": {},
   "outputs": [
    {
     "data": {
      "image/png": "[encoded data removed]",
      "text/plain": [
       "<Figure size 432x288 with 1 Axes>"
      ]
     },
     "metadata": {},
     "output_type": "display_data"
    },
    {
     "name": "stdout",
     "output_type": "stream",
     "text": [
      "The roots on the interval [0.000000, 30.000000] are:\n",
      "0\n",
      "3.14159\n",
      "6.28319\n",
      "9.42478\n",
      "12.56637\n",
      "15.70796\n",
      "18.84956\n",
      "\n",
      "Done\n"
     ]
    },
    {
     "name": "stderr",
     "output_type": "stream",
     "text": [
      "/Users/jyj/anaconda3/envs/PythonData/lib/python3.6/site-packages/ipykernel/__main__.py:36: RuntimeWarning: invalid value encountered in double_scalars\n"
     ]
    }
   ],
   "source": [
    "epsilon=0.01\n",
    "a=1/2+epsilon\n",
    "b=1/2-epsilon\n",
    "E0=pi**2/2\n",
    "\n",
    "def slove(alpha,solution,p=1):\n",
    "    def F(k):\n",
    "        c=2*alpha\n",
    "        return k*np.sin(k*(a+b))+c*np.sin(k*a)*np.sin(k*b)\n",
    "    \n",
    "    if p:\n",
    "        x=np.array(range(0,100))*0.1\n",
    "        y=[F(s) for s in x]\n",
    "        _=plt.plot(x,y)\n",
    "        _=plt.ylabel('F function')\n",
    "        plt.show()\n",
    "    \n",
    "        solution=roots(F,0,30) \n",
    "        p=0\n",
    "    else:\n",
    "        solution=fsolve(F,solution) \n",
    "    return solution,p\n",
    "  \n",
    "# slove(10*E0)    \n",
    "    \n",
    "alpha_list=np.array(range(100))*0.2*E0    \n",
    "solution=range(4)\n",
    "Energies=[]\n",
    "kn=[]\n",
    "AS=[]\n",
    "count=0\n",
    "p=1\n",
    "for alpha in alpha_list:\n",
    "    solution,p=slove(alpha,solution,p=p)\n",
    "    energy=[s**2/2/E0   for s in solution]  #wave vector to energy\n",
    "    As=[(a/2-np.sin(2*k*a)/(4*k)+np.sin(k*a)**2/np.sin(k*b)**2*(b/2-np.sin(2*k*b)/(4*k)))**-1 for k in solution]\n",
    "    Energies.append(energy)\n",
    "    AS.append([np.sqrt(abs(s)) for s in As])\n",
    "    kn.append(solution)\n",
    "    count+=1\n",
    "Energies=np.matrix(Energies)\n",
    "kn=np.matrix(kn)\n",
    "AS=np.matrix(AS)\n",
    "alpha_list/=E0  \n",
    "#     print(count)\n",
    "    "
   ]
  },
  {
   "cell_type": "code",
   "execution_count": 3,
   "metadata": {},
   "outputs": [
    {
     "data": {
      "text/plain": [
       "matrix([[ 0.        ,  3.14159265,  6.28318531,  9.42477796, 12.56637061,\n",
       "         15.70796327, 18.84955592],\n",
       "        [ 0.        ,  3.66673761,  6.28442405,  9.62720557, 12.56883833,\n",
       "         15.8294034 , 18.85323317],\n",
       "        [ 0.        ,  4.04749741,  6.28566256,  9.81773858, 12.57130559,\n",
       "         15.94801462, 18.85690975],\n",
       "        [ 0.        ,  4.33706012,  6.28690012,  9.99489048, 12.57377097,\n",
       "         16.06310467, 18.86058358],\n",
       "        [ 0.        ,  4.5642208 ,  6.28813601, 10.1581441 , 12.57623306,\n",
       "         16.17412826, 18.86425262],\n",
       "        [ 0.        ,  4.7465945 ,  6.28936952, 10.3076727 , 12.57869049,\n",
       "         16.28068498, 18.86791483],\n",
       "        [ 0.        ,  4.89574535,  6.29059996, 10.4440929 , 12.58114186,\n",
       "         16.38250893, 18.8715682 ],\n",
       "        [ 0.        ,  5.01962387,  6.29182665, 10.56827355, 12.58358583,\n",
       "         16.47945299, 18.87521075],\n",
       "        [ 0.        ,  5.12388129,  6.29304891, 10.6812006 , 12.58602109,\n",
       "         16.5714705 , 18.87884055],\n",
       "        [ 0.        ,  5.21263984,  6.29426608, 10.78388792, 12.58844633,\n",
       "         16.65859642, 18.88245572],\n",
       "        [ 0.        ,  5.28897109,  6.29547754, 10.87732233, 12.59086032,\n",
       "         16.74092947, 18.88605443],\n",
       "        [ 0.        ,  5.35520555,  6.29668267, 10.96243238, 12.59326184,\n",
       "         16.81861609, 18.8896349 ],\n",
       "        [ 0.        ,  5.41313968,  6.29788089, 11.04007291, 12.59564972,\n",
       "         16.89183666, 18.89319541],\n",
       "        [ 0.        ,  5.4641779 ,  6.29907161, 11.11101951, 12.59802285,\n",
       "         16.96079403, 18.89673434],\n",
       "        [ 0.        ,  5.50943207,  6.30025432, 11.17596913, 12.60038017,\n",
       "         17.02570431, 18.90025011],\n",
       "        [ 0.        ,  5.54979264,  6.30142848, 11.23554404, 12.60272065,\n",
       "         17.08678964, 18.90374122],\n",
       "        [ 0.        ,  5.58598017,  6.30259362, 11.29029755, 12.60504333,\n",
       "         17.14427265, 18.90720626],\n",
       "        [ 0.        ,  5.61858337,  6.30374927, 11.34072049, 12.60734731,\n",
       "         17.19837239, 18.91064389],\n",
       "        [ 0.        ,  5.64808746,  6.30489502, 11.38724773, 12.60963174,\n",
       "         17.24930142, 18.91405286],\n",
       "        [ 0.        ,  5.67489563,  6.30603046, 11.4302644 , 12.61189583,\n",
       "         17.29726378, 18.917432  ],\n",
       "        [ 0.        ,  5.69934543,  6.30715522, 11.47011174, 12.61413884,\n",
       "         17.34245375, 18.9207802 ],\n",
       "        [ 0.        ,  5.72172142,  6.30826896, 11.50709231, 12.61636009,\n",
       "         17.38505506, 18.92409648],\n",
       "        [ 0.        ,  5.74226505,  6.30937137, 11.54147468, 12.61855898,\n",
       "         17.42524065, 18.9273799 ],\n",
       "        [ 0.        ,  5.76118239,  6.31046216, 11.57349764, 12.62073492,\n",
       "         17.46317259, 18.93062961],\n",
       "        [ 0.        ,  5.77865037,  6.31154109, 11.60337378, 12.62288742,\n",
       "         17.49900231, 18.93384487],\n",
       "        [ 0.        ,  5.79482165,  6.31260793, 11.63129275, 12.62501601,\n",
       "         17.53287096, 18.93702498],\n",
       "        [ 0.        ,  5.80982857,  6.31366248, 11.65742401, 12.62712031,\n",
       "         17.56490984, 18.94016934],\n",
       "        [ 0.        ,  5.82378651,  6.31470456, 11.68191929, 12.62919995,\n",
       "         17.59524094, 18.94327742],\n",
       "        [ 0.        ,  5.83679632,  6.31573402, 11.70491467, 12.63125464,\n",
       "         17.62397746, 18.94634875],\n",
       "        [ 0.        ,  5.84894665,  6.31675074, 11.72653249, 12.63328412,\n",
       "         17.65122437, 18.94938295],\n",
       "        [ 0.        ,  5.86031565,  6.31775463, 11.74688287, 12.63528819,\n",
       "         17.67707899, 18.95237969],\n",
       "        [ 0.        ,  5.8709725 ,  6.3187456 , 11.76606519, 12.63726668,\n",
       "         17.70163149, 18.95533872],\n",
       "        [ 0.        ,  5.88097863,  6.31972359, 11.78416927, 12.63921948,\n",
       "         17.72496544, 18.95825984],\n",
       "        [ 0.        ,  5.89038875,  6.32068856, 11.80127645, 12.6411465 ,\n",
       "         17.74715826, 18.96114291],\n",
       "        [ 0.        ,  5.89925178,  6.3216405 , 11.81746052, 12.64304769,\n",
       "         17.76828172, 18.96398784],\n",
       "        [ 0.        ,  5.90761155,  6.32257941, 11.83278854, 12.64492304,\n",
       "         17.78840238, 18.96679461],\n",
       "        [ 0.        ,  5.91550744,  6.32350529, 11.84732156, 12.64677258,\n",
       "         17.80758195, 18.96956322],\n",
       "        [ 0.        ,  5.92297494,  6.32441819, 11.86111526, 12.64859636,\n",
       "         17.8258777 , 18.97229375],\n",
       "        [ 0.        ,  5.93004611,  6.32531814, 11.87422048, 12.65039447,\n",
       "         17.84334282, 18.97498628],\n",
       "        [ 0.        ,  5.93674996,  6.3262052 , 11.88668376, 12.65216701,\n",
       "         17.8600267 , 18.97764098],\n",
       "        [ 0.        ,  5.94311283,  6.32707945, 11.89854772, 12.65391411,\n",
       "         17.87597526, 18.98025802],\n",
       "        [ 0.        ,  5.94915867,  6.32794097, 11.90985147, 12.65563594,\n",
       "         17.89123119, 18.98283762],\n",
       "        [ 0.        ,  5.95490929,  6.32878985, 11.92063098, 12.65733267,\n",
       "         17.90583424, 18.98538002],\n",
       "        [ 0.        ,  5.96038461,  6.32962619, 11.93091931, 12.65900449,\n",
       "         17.91982142, 18.9878855 ],\n",
       "        [ 0.        ,  5.96560286,  6.3304501 , 11.94074696, 12.66065163,\n",
       "         17.93322723, 18.99035436],\n",
       "        [ 0.        ,  5.97058073,  6.33126171, 11.95014207, 12.66227431,\n",
       "         17.94608384, 18.99278693],\n",
       "        [ 0.        ,  5.97533354,  6.33206113, 11.95913063, 12.66387277,\n",
       "         17.95842127, 18.99518355],\n",
       "        [ 0.        ,  5.9798754 ,  6.3328485 , 11.96773669, 12.66544728,\n",
       "         17.97026755, 18.9975446 ],\n",
       "        [ 0.        ,  5.98421926,  6.33362396, 11.97598253, 12.6669981 ,\n",
       "         17.9816489 , 18.99987046],\n",
       "        [ 0.        ,  5.9883771 ,  6.33438765, 11.98388881, 12.6685255 ,\n",
       "         17.99258981, 19.00216152],\n",
       "        [ 0.        ,  5.99235997,  6.33513972, 11.99147471, 12.67002978,\n",
       "         18.00311323, 19.00441821],\n",
       "        [ 0.        ,  5.99617808,  6.33588032, 11.99875805, 12.67151124,\n",
       "         18.01324063, 19.00664094],\n",
       "        [ 0.        ,  5.99984091,  6.33660959, 12.00575544, 12.67297016,\n",
       "         18.02299215, 19.00883016],\n",
       "        [ 0.        ,  6.00335724,  6.33732771, 12.01248231, 12.67440687,\n",
       "         18.03238666, 19.01098631],\n",
       "        [ 0.        ,  6.00673521,  6.33803482, 12.01895309, 12.67582166,\n",
       "         18.04144188, 19.01310984],\n",
       "        [ 0.        ,  6.0099824 ,  6.33873109, 12.02518121, 12.67721487,\n",
       "         18.05017446, 19.01520121],\n",
       "        [ 0.        ,  6.01310587,  6.33941668, 12.03117923, 12.67858679,\n",
       "         18.05860003, 19.01726089],\n",
       "        [ 0.        ,  6.01611218,  6.34009175, 12.03695892, 12.67993776,\n",
       "         18.06673329, 19.01928933],\n",
       "        [ 0.        ,  6.01900746,  6.34075647, 12.04253126, 12.6812681 ,\n",
       "         18.0745881 , 19.02128702],\n",
       "        [ 0.        ,  6.02179744,  6.341411  , 12.04790656, 12.68257813,\n",
       "         18.08217748, 19.02325442],\n",
       "        [ 0.        ,  6.02448747,  6.3420555 , 12.05309447, 12.68386817,\n",
       "         18.0895137 , 19.025192  ],\n",
       "        [ 0.        ,  6.02708255,  6.34269013, 12.05810407, 12.68513854,\n",
       "         18.09660835, 19.02710024],\n",
       "        [ 0.        ,  6.02958738,  6.34331507, 12.06294387, 12.68638957,\n",
       "         18.10347234, 19.02897961],\n",
       "        [ 0.        ,  6.03200634,  6.34393047, 12.06762186, 12.68762157,\n",
       "         18.11011599, 19.03083058],\n",
       "        [ 0.        ,  6.03434356,  6.34453649, 12.07214559, 12.68883487,\n",
       "         18.11654903, 19.03265362],\n",
       "        [ 0.        ,  6.03660291,  6.34513329, 12.07652213, 12.69002978,\n",
       "         18.12278067, 19.03444919],\n",
       "        [ 0.        ,  6.03878803,  6.34572104, 12.08075817, 12.69120662,\n",
       "         18.12881962, 19.03621775],\n",
       "        [ 0.        ,  6.04090236,  6.34629988, 12.08486001, 12.69236569,\n",
       "         18.1346741 , 19.03795977],\n",
       "        [ 0.        ,  6.0429491 ,  6.34686998, 12.08883357, 12.69350731,\n",
       "         18.14035191, 19.0396757 ],\n",
       "        [ 0.        ,  6.0449313 ,  6.34743149, 12.09268448, 12.69463178,\n",
       "         18.14586046, 19.04136599],\n",
       "        [ 0.        ,  6.04685182,  6.34798457, 12.09641803, 12.6957394 ,\n",
       "         18.15120672, 19.04303108],\n",
       "        [ 0.        ,  6.04871336,  6.34852935, 12.10003924, 12.69683048,\n",
       "         18.15639735, 19.04467142],\n",
       "        [ 0.        ,  6.05051848,  6.349066  , 12.10355284, 12.6979053 ,\n",
       "         18.16143865, 19.04628744],\n",
       "        [ 0.        ,  6.05226959,  6.34959465, 12.10696332, 12.69896416,\n",
       "         18.16633659, 19.04787958],\n",
       "        [ 0.        ,  6.05396897,  6.35011546, 12.11027493, 12.70000734,\n",
       "         18.17109686, 19.04944825],\n",
       "        [ 0.        ,  6.05561877,  6.35062856, 12.11349171, 12.70103513,\n",
       "         18.17572486, 19.05099388],\n",
       "        [ 0.        ,  6.05722105,  6.3511341 , 12.11661747, 12.70204781,\n",
       "         18.18022572, 19.05251687],\n",
       "        [ 0.        ,  6.05877773,  6.35163221, 12.11965584, 12.70304564,\n",
       "         18.18460432, 19.05401763],\n",
       "        [ 0.        ,  6.06029066,  6.35212302, 12.12261026, 12.70402891,\n",
       "         18.18886532, 19.05549658],\n",
       "        [ 0.        ,  6.06176157,  6.35260669, 12.12548401, 12.70499786,\n",
       "         18.19301313, 19.05695408],\n",
       "        [ 0.        ,  6.06319212,  6.35308332, 12.12828019, 12.70595278,\n",
       "         18.19705198, 19.05839055],\n",
       "        [ 0.        ,  6.06458388,  6.35355306, 12.13100176, 12.70689391,\n",
       "         18.20098587, 19.05980635],\n",
       "        [ 0.        ,  6.06593834,  6.35401603, 12.13365155, 12.7078215 ,\n",
       "         18.20481865, 19.06120186],\n",
       "        [ 0.        ,  6.06725692,  6.35447235, 12.13623221, 12.70873581,\n",
       "         18.20855397, 19.06257746],\n",
       "        [ 0.        ,  6.06854097,  6.35492216, 12.13874632, 12.70963707,\n",
       "         18.21219532, 19.06393349],\n",
       "        [ 0.        ,  6.06979178,  6.35536556, 12.14119629, 12.71052553,\n",
       "         18.21574603, 19.06527032],\n",
       "        [ 0.        ,  6.07101057,  6.35580267, 12.14358446, 12.71140142,\n",
       "         18.21920927, 19.0665883 ],\n",
       "        [ 0.        ,  6.07219851,  6.35623362, 12.14591303, 12.71226497,\n",
       "         18.2225881 , 19.06788777],\n",
       "        [ 0.        ,  6.07335671,  6.35665851, 12.14818411, 12.7131164 ,\n",
       "         18.22588541, 19.06916907],\n",
       "        [ 0.        ,  6.07448623,  6.35707745, 12.15039973, 12.71395595,\n",
       "         18.22910399, 19.07043252],\n",
       "        [ 0.        ,  6.07558809,  6.35749056, 12.1525618 , 12.71478382,\n",
       "         18.23224649, 19.07167846],\n",
       "        [ 0.        ,  6.07666324,  6.35789794, 12.15467217, 12.71560023,\n",
       "         18.23531547, 19.07290719],\n",
       "        [ 0.        ,  6.07771262,  6.3582997 , 12.1567326 , 12.71640539,\n",
       "         18.23831336, 19.07411903],\n",
       "        [ 0.        ,  6.07873711,  6.35869594, 12.15874477, 12.7171995 ,\n",
       "         18.24124249, 19.07531429],\n",
       "        [ 0.        ,  6.07973755,  6.35908677, 12.1607103 , 12.71798277,\n",
       "         18.24410511, 19.07649326],\n",
       "        [ 0.        ,  6.08071475,  6.35947227, 12.16263072, 12.71875539,\n",
       "         18.24690335, 19.07765625],\n",
       "        [ 0.        ,  6.08166948,  6.35985254, 12.16450751, 12.71951756,\n",
       "         18.24963928, 19.07880353],\n",
       "        [ 0.        ,  6.08260248,  6.36022769, 12.1663421 , 12.72026946,\n",
       "         18.25231487, 19.0799354 ],\n",
       "        [ 0.        ,  6.08351446,  6.3605978 , 12.16813583, 12.72101128,\n",
       "         18.25493201, 19.08105212],\n",
       "        [ 0.        ,  6.0844061 ,  6.36096297, 12.16989001, 12.7217432 ,\n",
       "         18.25749253, 19.08215397]])"
      ]
     },
     "execution_count": 3,
     "metadata": {},
     "output_type": "execute_result"
    }
   ],
   "source": [
    "\n",
    "kn"
   ]
  },
  {
   "cell_type": "code",
   "execution_count": 50,
   "metadata": {},
   "outputs": [
    {
     "data": {
      "image/png": "[encoded data removed]",
      "text/plain": [
       "<Figure size 432x288 with 1 Axes>"
      ]
     },
     "metadata": {},
     "output_type": "display_data"
    }
   ],
   "source": [
    "%matplotlib inline\n",
    "_=plt.plot(alpha_list,  Energies[:,1], 'r--', alpha_list,  Energies[:,2], 'b-', \n",
    "           alpha_list, Energies[:,3], 'g-',alpha_list,  Energies[:,4], 'y-')\n",
    "_=plt.ylabel('F function')\n",
    "plt.show()"
   ]
  },
  {
   "cell_type": "code",
   "execution_count": null,
   "metadata": {},
   "outputs": [],
   "source": [
    "\n"
   ]
  },
  {
   "cell_type": "code",
   "execution_count": 52,
   "metadata": {},
   "outputs": [
    {
     "data": {
      "text/plain": [
       "(0, 0.01)"
      ]
     },
     "execution_count": 52,
     "metadata": {},
     "output_type": "execute_result"
    },
    {
     "data": {
      "text/plain": [
       "(0, 20)"
      ]
     },
     "execution_count": 52,
     "metadata": {},
     "output_type": "execute_result"
    },
    {
     "data": {
      "image/png": "[encoded data removed]",
      "text/plain": [
       "<Figure size 432x288 with 1 Axes>"
      ]
     },
     "metadata": {},
     "output_type": "display_data"
    }
   ],
   "source": [
    "amp=[]\n",
    "for k in range(len(kn)):\n",
    "    am=[]\n",
    "    for s in range(2,7):\n",
    "        dn=(Energies[k,s]-Energies[k,1])*E0\n",
    "        up=AS[k,s]*np.sin(kn[k,s]*a) * AS[k,1]*np.sin(kn[k,1]*a)\n",
    "        ratio=up/dn\n",
    "        am.append(ratio)\n",
    "    amp.append(am)\n",
    "amp=np.matrix(amp)\n",
    "amp=abs(amp)\n",
    "_=plt.plot(alpha_list, amp[:,0],'b*-',alpha_list, amp[:,1], 'r--', alpha_list, amp[:,2], 'b-', \n",
    "           alpha_list,amp[:,3], 'g*-',alpha_list, amp[:,4], 'y-')\n",
    "_=plt.ylabel('F function')\n",
    "plt.ylim(0, 0.01)\n",
    "plt.xlim(0, 20)\n",
    "plt.show()"
   ]
  },
  {
   "cell_type": "code",
   "execution_count": 5,
   "metadata": {},
   "outputs": [
    {
     "data": {
      "image/png": "[encoded data removed]",
      "text/plain": [
       "<Figure size 432x288 with 1 Axes>"
      ]
     },
     "metadata": {},
     "output_type": "display_data"
    }
   ],
   "source": [
    "_=plt.plot(alpha_list, result[:,1], 'r--', alpha_list, result[:,2], 'b-', \n",
    "           alpha_list,result[:,3], 'g-',alpha_list, result[:,4], 'y-')\n",
    "_=plt.ylabel('F function')\n",
    "plt.show()"
   ]
  },
  {
   "cell_type": "code",
   "execution_count": null,
   "metadata": {},
   "outputs": [],
   "source": [
    "x=fsolve(F,range(10))\n",
    "x"
   ]
  },
  {
   "cell_type": "code",
   "execution_count": null,
   "metadata": {
    "scrolled": true
   },
   "outputs": [],
   "source": [
    "\n",
    "\n",
    "def rootsearch(f,a,b,dx):\n",
    "    x1 = a; f1 = f(a)\n",
    "    x2 = a + dx; f2 = f(x2)\n",
    "    while f1*f2 > 0.0:\n",
    "        if x1 >= b:\n",
    "            return None,None\n",
    "        x1 = x2; f1 = f2\n",
    "        x2 = x1 + dx; f2 = f(x2)\n",
    "    return x1,x2\n",
    "\n",
    "def bisect(f,x1,x2,switch=0,epsilon=1.0e-9):\n",
    "    f1 = f(x1)\n",
    "    if f1 == 0.0:\n",
    "        return x1\n",
    "    f2 = f(x2)\n",
    "    if f2 == 0.0:\n",
    "        return x2\n",
    "    if f1*f2 > 0.0:\n",
    "        print('Root is not bracketed')\n",
    "        return None\n",
    "    n = int(math.ceil(math.log(abs(x2 - x1)/epsilon)/math.log(2.0)))\n",
    "    for i in range(n):\n",
    "        x3 = 0.5*(x1 + x2); f3 = f(x3)\n",
    "        if (switch == 1) and (abs(f3) >abs(f1)) and (abs(f3) > abs(f2)):\n",
    "            return None\n",
    "        if f3 == 0.0:\n",
    "            return x3\n",
    "        if f2*f3 < 0.0:\n",
    "            x1 = x3\n",
    "            f1 = f3\n",
    "        else:\n",
    "            x2 =x3\n",
    "            f2 = f3\n",
    "    return (x1 + x2)/2.0\n",
    "\n",
    "def roots(f, a, b, eps=1e-6):\n",
    "    print ('The roots on the interval [%f, %f] are:' % (a,b))\n",
    "    res=[]\n",
    "    while 1:\n",
    "        x1,x2 = rootsearch(f,a,b,eps)\n",
    "        if (x1 != None) and len(res)<=4:\n",
    "            a = x2\n",
    "            root = bisect(f,x1,x2,1)\n",
    "            if root != None:\n",
    "                pass\n",
    "                print (round(root,-int(math.log(eps, 10))))\n",
    "                res.append(root)\n",
    "        else:\n",
    "            print ('\\nDone')\n",
    "            break\n",
    "    return res\n",
    "\n",
    "f=lambda x:x*math.cos(x-4)\n",
    "solution=roots(f, -3, 3)"
   ]
  },
  {
   "cell_type": "code",
   "execution_count": null,
   "metadata": {},
   "outputs": [],
   "source": [
    "solution"
   ]
  },
  {
   "cell_type": "code",
   "execution_count": null,
   "metadata": {},
   "outputs": [],
   "source": [
    "import math \n",
    "math.log(2.0)"
   ]
  },
  {
   "cell_type": "code",
   "execution_count": null,
   "metadata": {},
   "outputs": [],
   "source": [
    "1/2"
   ]
  },
  {
   "cell_type": "code",
   "execution_count": null,
   "metadata": {},
   "outputs": [],
   "source": [
    "math.log(1e-6, 10)"
   ]
  },
  {
   "cell_type": "code",
   "execution_count": 6,
   "metadata": {},
   "outputs": [
    {
     "data": {
      "text/plain": [
       "0.5"
      ]
     },
     "execution_count": 6,
     "metadata": {},
     "output_type": "execute_result"
    }
   ],
   "source": [
    "AS=(a/2-np.sin(2*k*a)/(4*k)+np.sin(k*a)**2/np.sin(k*b)**2*(b/2-np.sin(2*k*b)/(4*k)))**-1\n",
    "AS"
   ]
  },
  {
   "cell_type": "code",
   "execution_count": 7,
   "metadata": {},
   "outputs": [],
   "source": [
    "f=lambda x:np.sin(x)**2"
   ]
  },
  {
   "cell_type": "code",
   "execution_count": 8,
   "metadata": {},
   "outputs": [
    {
     "data": {
      "text/plain": [
       "<function __main__.<lambda>(x)>"
      ]
     },
     "execution_count": 8,
     "metadata": {},
     "output_type": "execute_result"
    }
   ],
   "source": [
    "f"
   ]
  },
  {
   "cell_type": "code",
   "execution_count": 11,
   "metadata": {},
   "outputs": [
    {
     "data": {
      "text/plain": [
       "array([1.        , 0.70710678])"
      ]
     },
     "execution_count": 11,
     "metadata": {},
     "output_type": "execute_result"
    }
   ],
   "source": [
    "f([pi/2,pi/4])"
   ]
  },
  {
   "cell_type": "code",
   "execution_count": null,
   "metadata": {},
   "outputs": [],
   "source": []
  }
 ],
 "metadata": {
  "kernelspec": {
   "display_name": "Python [conda env:PythonData]",
   "language": "python",
   "name": "conda-env-PythonData-py"
  },
  "language_info": {
   "codemirror_mode": {
    "name": "ipython",
    "version": 3
   },
   "file_extension": ".py",
   "mimetype": "text/x-python",
   "name": "python",
   "nbconvert_exporter": "python",
   "pygments_lexer": "ipython3",
   "version": "3.6.5"
  }
 },
 "nbformat": 4,
 "nbformat_minor": 2
}
